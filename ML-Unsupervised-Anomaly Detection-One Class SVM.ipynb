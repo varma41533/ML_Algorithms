{
 "cells": [
  {
   "cell_type": "markdown",
   "id": "6b338ee6",
   "metadata": {},
   "source": [
    "# ML-Unsupervised-Anomaly Detection-Isolation Forest"
   ]
  },
  {
   "cell_type": "code",
   "execution_count": 2,
   "id": "907eb19d",
   "metadata": {},
   "outputs": [
    {
     "name": "stdout",
     "output_type": "stream",
     "text": [
      "Anomalies detected:\n",
      "   feature_1  feature_2  anomaly\n",
      "0         10        100       -1\n",
      "4         15        105       -1\n",
      "5        200        210       -1\n",
      "9        300        250       -1\n"
     ]
    }
   ],
   "source": [
    "import numpy as np\n",
    "import pandas as pd\n",
    "from sklearn.svm import OneClassSVM\n",
    "\n",
    "# Sample Data (Replace with your dataset)\n",
    "data = {\n",
    "    'feature_1': [10, 12, 14, 13, 15, 200, 11, 13, 12, 300],  # Outliers at 200, 300\n",
    "    'feature_2': [100, 102, 104, 103, 105, 210, 101, 103, 102, 250]  # Outliers at 210, 250\n",
    "}\n",
    "df = pd.DataFrame(data)\n",
    "\n",
    "# Initialize One-Class SVM model\n",
    "svm = OneClassSVM(\n",
    "    kernel='rbf',  # Radial Basis Function kernel (common choice)\n",
    "    nu=0.1,        # Proportion of expected anomalies (10%)\n",
    "    gamma='auto'   # Kernel coefficient (can be tuned)\n",
    ")\n",
    "\n",
    "# Fit the model to the data\n",
    "svm.fit(df)\n",
    "\n",
    "# Predict anomalies (-1 = anomaly, 1 = normal)\n",
    "df['anomaly'] = svm.predict(df)\n",
    "\n",
    "# Filter the anomalies\n",
    "anomalies = df[df['anomaly'] == -1]\n",
    "\n",
    "print(\"Anomalies detected:\")\n",
    "print(anomalies)\n"
   ]
  },
  {
   "cell_type": "code",
   "execution_count": null,
   "id": "5330b004",
   "metadata": {},
   "outputs": [],
   "source": []
  },
  {
   "cell_type": "code",
   "execution_count": null,
   "id": "9dcfa5d2",
   "metadata": {},
   "outputs": [],
   "source": []
  }
 ],
 "metadata": {
  "kernelspec": {
   "display_name": "Python 3 (ipykernel)",
   "language": "python",
   "name": "python3"
  },
  "language_info": {
   "codemirror_mode": {
    "name": "ipython",
    "version": 3
   },
   "file_extension": ".py",
   "mimetype": "text/x-python",
   "name": "python",
   "nbconvert_exporter": "python",
   "pygments_lexer": "ipython3",
   "version": "3.11.5"
  }
 },
 "nbformat": 4,
 "nbformat_minor": 5
}
