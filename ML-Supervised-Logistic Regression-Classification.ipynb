{
 "cells": [
  {
   "cell_type": "markdown",
   "id": "dca413af",
   "metadata": {},
   "source": [
    "# ML-Supervised-Logistic Regression-Classification"
   ]
  },
  {
   "cell_type": "code",
   "execution_count": 1,
   "id": "3f880a99",
   "metadata": {},
   "outputs": [
    {
     "name": "stdout",
     "output_type": "stream",
     "text": [
      "Accuracy: 50.00%\n",
      "\n",
      "Classification Report:\n",
      "              precision    recall  f1-score   support\n",
      "\n",
      "          no       0.00      0.00      0.00         2\n",
      "         yes       0.50      1.00      0.67         2\n",
      "\n",
      "    accuracy                           0.50         4\n",
      "   macro avg       0.25      0.50      0.33         4\n",
      "weighted avg       0.25      0.50      0.33         4\n",
      "\n",
      "Confusion Matrix:\n",
      "[[0 2]\n",
      " [0 2]]\n"
     ]
    },
    {
     "name": "stderr",
     "output_type": "stream",
     "text": [
      "/Users/gottumukkalajnanasanjana/anaconda3/lib/python3.11/site-packages/sklearn/metrics/_classification.py:1469: UndefinedMetricWarning: Precision and F-score are ill-defined and being set to 0.0 in labels with no predicted samples. Use `zero_division` parameter to control this behavior.\n",
      "  _warn_prf(average, modifier, msg_start, len(result))\n",
      "/Users/gottumukkalajnanasanjana/anaconda3/lib/python3.11/site-packages/sklearn/metrics/_classification.py:1469: UndefinedMetricWarning: Precision and F-score are ill-defined and being set to 0.0 in labels with no predicted samples. Use `zero_division` parameter to control this behavior.\n",
      "  _warn_prf(average, modifier, msg_start, len(result))\n",
      "/Users/gottumukkalajnanasanjana/anaconda3/lib/python3.11/site-packages/sklearn/metrics/_classification.py:1469: UndefinedMetricWarning: Precision and F-score are ill-defined and being set to 0.0 in labels with no predicted samples. Use `zero_division` parameter to control this behavior.\n",
      "  _warn_prf(average, modifier, msg_start, len(result))\n"
     ]
    }
   ],
   "source": [
    "import pandas as pd\n",
    "import numpy as np\n",
    "from sklearn.linear_model import LogisticRegression\n",
    "from sklearn.model_selection import train_test_split\n",
    "from sklearn.preprocessing import StandardScaler \n",
    "from sklearn.metrics import accuracy_score, confusion_matrix, classification_report\n",
    "from sklearn.preprocessing import LabelEncoder\n",
    "\n",
    "\n",
    "df=pd.read_csv('/Users/gottumukkalasaimanojvarma/Desktop/ML-Supervised Learning/Laptop-Users.csv')\n",
    "\n",
    "\n",
    "#label_encoder_Has_Laptop = LabelEncoder()\n",
    "#df['Has Laptop'] = label_encoder_Has_Laptop.fit_transform(df['Has Laptop'])\n",
    "\n",
    "df\n",
    "\n",
    "# One-Hot Encoding for 'Gender', 'Region', 'Occupation'\n",
    "df_encoded = pd.get_dummies(df, columns=['Gender', 'Region' , 'Occupation'], drop_first=True)\n",
    "\n",
    "\n",
    "# Split the data into features (X) and target (y)\n",
    "X = df_encoded.drop('Has Laptop', axis=1)  # Features\n",
    "y = df_encoded['Has Laptop']                # Target\n",
    "\n",
    "\n",
    "\n",
    "X_train,X_test,y_train,y_test= train_test_split(X,y,test_size=0.2,random_state=100)\n",
    "\n",
    "model = LogisticRegression(max_iter=1000, random_state=42)\n",
    "model.fit(X_train, y_train)\n",
    "\n",
    "\n",
    "y_pred=model.predict(X_test)\n",
    "\n",
    "\n",
    "accuracy = accuracy_score(y_test, y_pred)\n",
    "print(f\"Accuracy: {accuracy * 100:.2f}%\")\n",
    "\n",
    "print(\"\\nClassification Report:\")\n",
    "print(classification_report(y_test, y_pred))\n",
    "\n",
    "print(\"Confusion Matrix:\")\n",
    "print(confusion_matrix(y_test, y_pred))\n",
    "\n",
    "\n"
   ]
  },
  {
   "cell_type": "code",
   "execution_count": 2,
   "id": "efda479f",
   "metadata": {},
   "outputs": [
    {
     "name": "stdout",
     "output_type": "stream",
     "text": [
      "Enter age: 34\n",
      "Enter gender (male/female): male\n",
      "Enter region (urban/rural): urban\n",
      "Enter occupation (engineer/doctor/teacher/artist/...): doctor\n",
      "Enter income: 3454\n",
      "\n",
      "Prediction: This user is predicted to have a laptop.\n"
     ]
    }
   ],
   "source": [
    "# --- User Input Prediction Function ---\n",
    "def predict_laptop_user():\n",
    "    # Collect user input\n",
    "    age = int(input(\"Enter age: \"))\n",
    "    gender = input(\"Enter gender (male/female): \").strip().lower()\n",
    "    region = input(\"Enter region (urban/rural): \").strip().lower()\n",
    "    occupation = input(\"Enter occupation (engineer/doctor/teacher/artist/...): \").strip().lower()\n",
    "    income = int(input(\"Enter income: \"))\n",
    "\n",
    "    # Create a DataFrame for the new user input\n",
    "    user_data = pd.DataFrame({\n",
    "        'Age': [age],\n",
    "        'Gender': [gender], \n",
    "        'Region': [region],  \n",
    "        'Occupation':[occupation],\n",
    "        'Income':[income]\n",
    "    })\n",
    "\n",
    "    # Handle one-hot encoding for occupations (add missing columns with 0 if needed)\n",
    "    user_input_encoded =  pd.get_dummies(user_data, columns=['Gender', 'Region' , 'Occupation'], drop_first=True)\n",
    "\n",
    "    # Align with the training data columns\n",
    "    user_input_encoded = user_input_encoded.reindex(columns=X.columns, fill_value=0)\n",
    "\n",
    "\n",
    "\n",
    "    # Make a prediction\n",
    "    prediction = model.predict(user_input_encoded)[0]\n",
    "    #result = label_encoder_Has_Laptop.inverse_transform([prediction])[0]\n",
    "\n",
    "    print(f\"\\nPrediction: This user is predicted to {'have' if prediction == 'yes' else 'not have'} a laptop.\")\n",
    "\n",
    "# Call the function to make a prediction for a new user\n",
    "predict_laptop_user()"
   ]
  },
  {
   "cell_type": "code",
   "execution_count": null,
   "id": "f673a4f5",
   "metadata": {},
   "outputs": [],
   "source": []
  }
 ],
 "metadata": {
  "kernelspec": {
   "display_name": "Python 3 (ipykernel)",
   "language": "python",
   "name": "python3"
  },
  "language_info": {
   "codemirror_mode": {
    "name": "ipython",
    "version": 3
   },
   "file_extension": ".py",
   "mimetype": "text/x-python",
   "name": "python",
   "nbconvert_exporter": "python",
   "pygments_lexer": "ipython3",
   "version": "3.11.5"
  }
 },
 "nbformat": 4,
 "nbformat_minor": 5
}
