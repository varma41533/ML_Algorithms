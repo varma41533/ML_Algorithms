{
 "cells": [
  {
   "cell_type": "markdown",
   "id": "e99f2593",
   "metadata": {},
   "source": [
    "# ML-Unsupervised-Anomaly Detection-Isolation Forest"
   ]
  },
  {
   "cell_type": "code",
   "execution_count": 6,
   "id": "b9104bc6",
   "metadata": {},
   "outputs": [
    {
     "name": "stdout",
     "output_type": "stream",
     "text": [
      "Anomalies detected:\n",
      "   feature_1  feature_2  anomaly\n",
      "0         10        100        1\n",
      "1         12        102        1\n",
      "2         14        104        1\n",
      "3         13        103        1\n",
      "4         15        105        1\n",
      "5        200        210        1\n",
      "6         11        101        1\n",
      "7         13        103        1\n",
      "8         12        102        1\n",
      "9        300        250       -1\n"
     ]
    }
   ],
   "source": [
    "import numpy as np\n",
    "import pandas as pd\n",
    "from sklearn.ensemble import IsolationForest\n",
    "\n",
    "# Sample Data (Replace with your dataset)\n",
    "data = {\n",
    "    'feature_1': [10, 12, 14, 13, 15, 200, 11, 13, 12, 300],  # Outliers at 200, 300\n",
    "    'feature_2': [100, 102, 104, 103, 105, 210, 101, 103, 102, 250]  # Outliers at 210, 250\n",
    "}\n",
    "df = pd.DataFrame(data)\n",
    "\n",
    "# Initialize the Isolation Forest model\n",
    "isolation_forest = IsolationForest(\n",
    "    n_estimators=100,  # Number of trees\n",
    "    contamination=0.1,  # Proportion of anomalies (10%)\n",
    "    random_state=42\n",
    ")\n",
    "\n",
    "# Fit the model to the data\n",
    "isolation_forest.fit(df)\n",
    "\n",
    "# Predict anomalies (-1 = anomaly, 1 = normal)\n",
    "df['anomaly'] = isolation_forest.predict(df)\n",
    "\n",
    "# Filter the anomalies\n",
    "anomalies = df[df['anomaly'] == -1]\n",
    "\n",
    "print(\"Anomalies detected:\")\n",
    "print(df)\n"
   ]
  },
  {
   "cell_type": "code",
   "execution_count": null,
   "id": "a1a216f0",
   "metadata": {},
   "outputs": [],
   "source": []
  }
 ],
 "metadata": {
  "kernelspec": {
   "display_name": "Python 3 (ipykernel)",
   "language": "python",
   "name": "python3"
  },
  "language_info": {
   "codemirror_mode": {
    "name": "ipython",
    "version": 3
   },
   "file_extension": ".py",
   "mimetype": "text/x-python",
   "name": "python",
   "nbconvert_exporter": "python",
   "pygments_lexer": "ipython3",
   "version": "3.11.5"
  }
 },
 "nbformat": 4,
 "nbformat_minor": 5
}
